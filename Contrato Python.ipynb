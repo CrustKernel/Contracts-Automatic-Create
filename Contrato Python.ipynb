{
 "cells": [
  {
   "cell_type": "code",
   "execution_count": null,
   "id": "ccaf6ca7",
   "metadata": {},
   "outputs": [],
   "source": [
    "# !pip install python-docx\n",
    "#123I912IU3192312U342198"
   ]
  },
  {
   "cell_type": "markdown",
   "id": "515bc559",
   "metadata": {},
   "source": [
    "###  contrato"
   ]
  },
  {
   "cell_type": "code",
   "execution_count": 10,
   "id": "a17586bb",
   "metadata": {},
   "outputs": [],
   "source": [
    "from docx import Document\n",
    "from datetime import datetime \n",
    "import pandas as pd\n",
    "\n",
    "tabela = pd.read_excel(\"Coloque as Informações aqui.xlsx\")\n",
    "\n",
    "for linha in tabela.index:\n",
    "    documento = Document(\"ContratoExemplo.docx\")\n",
    "\n",
    "    nome = tabela.loc[linha, \"Nome\"]\n",
    "    item1 = tabela.loc[linha, \"Item1\"]\n",
    "    item2 = tabela.loc[linha, \"Item2\"]\n",
    "    item3 = tabela.loc[linha, \"Item3\"]\n",
    "\n",
    "    referencias = {\n",
    "        \"XXXX\": nome,\n",
    "        \"YYYY\": item1,\n",
    "        \"ZZZZ\": item2,\n",
    "        \"WWWW\": item3,\n",
    "        \"DD\": str(datetime.now().day),\n",
    "        \"MM\": str(datetime.now().month),\n",
    "        \"AAAA\": str(datetime.now().year), \n",
    "    }\n",
    "\n",
    "    for paragrafo in documento.paragraphs:\n",
    "        for codigo in referencias:\n",
    "            valor = referencias[codigo]\n",
    "            paragrafo.text = paragrafo.text.replace(codigo, valor)\n",
    "\n",
    "    documento.save(f\"Contrato - {nome}.docx\")"
   ]
  },
  {
   "cell_type": "code",
   "execution_count": null,
   "id": "ea23c673",
   "metadata": {},
   "outputs": [],
   "source": []
  }
 ],
 "metadata": {
  "kernelspec": {
   "display_name": "Python 3.9.13 64-bit (windows store)",
   "language": "python",
   "name": "python3"
  },
  "language_info": {
   "codemirror_mode": {
    "name": "ipython",
    "version": 3
   },
   "file_extension": ".py",
   "mimetype": "text/x-python",
   "name": "python",
   "nbconvert_exporter": "python",
   "pygments_lexer": "ipython3",
   "version": "3.9.13"
  },
  "vscode": {
   "interpreter": {
    "hash": "d3c01645046ed024b6cd95d50358a5b93d5233ae214d19a7478611df817d8e99"
   }
  }
 },
 "nbformat": 4,
 "nbformat_minor": 5
}
